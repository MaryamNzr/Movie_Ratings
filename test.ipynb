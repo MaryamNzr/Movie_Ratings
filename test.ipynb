{
 "cells": [
  {
   "cell_type": "code",
   "execution_count": 105,
   "metadata": {},
   "outputs": [],
   "source": [
    "import pandas as pd\n",
    "import numpy as np \n",
    "\n",
    "\n",
    "df_csv = pd.read_csv('imdb_csv.csv', index_col=[0])\n"
   ]
  },
  {
   "cell_type": "code",
   "execution_count": 127,
   "metadata": {},
   "outputs": [],
   "source": [
    "import matplotlib.pyplot as plt"
   ]
  },
  {
   "cell_type": "code",
   "execution_count": 106,
   "metadata": {},
   "outputs": [],
   "source": [
    "import pandas as pd\n",
    "import json\n",
    "\n",
    "import json \n",
    "import pandas as pd\n",
    "\n",
    "# Load the json data\n",
    "with open('imdb_json.json') as f:\n",
    "  data = json.load(f)\n",
    "\n",
    "  # Extract the year and movie data into separate variables  \n",
    "  years = list(data.keys())\n",
    "\n",
    "movies = list(data.values())\n",
    "\n",
    "df_json = pd.DataFrame({\"year\":years, \n",
    "                         'title' :None,\n",
    "                         'composer':None, \n",
    "                         'cast':None, \n",
    "                         'language':None, \n",
    "                         'director':None, \n",
    "                         'country':None, \n",
    "                         'genre':None,\n",
    "                         'writer':None})\n",
    "\n",
    "\n",
    "for i, movi in enumerate(movies[0]):\n",
    "  \n",
    "  if i<len(movies):\n",
    "    df_json.iloc[i,1] = list(movi.keys())[0]\n",
    "  \n",
    "    df_json.iloc[i,2:] = pd.json_normalize(movies[0][i][list(movi.keys())[0]])\n"
   ]
  },
  {
   "cell_type": "code",
   "execution_count": 107,
   "metadata": {},
   "outputs": [
    {
     "name": "stdout",
     "output_type": "stream",
     "text": [
      "dict_keys(['2003', '2021', '1994', '2016', '1992', '2004', '1991', '2010', '2019', '1999', '1988', '2005', '1990', '1972', '2001', '2012', '2000', '1998', '1993', '1973', '1996', '1986', '2002', '1985', '1997', '2008', '1974', '2015', '2017', '2007', '1989', '1995', '1978', '1971', '1969', '1982', '1947', '1981', '2006', '1919', '1976', '1967', '1942', '1984', '2018', '1987', '1979', '2011', '2009', '1966', '1959', '2020', '1960', '1980', '1963', '1983', '1905', '2014', '1943', '2013', '1977', '1965', '1951', '1958', '1928', '2022', '1944', '1954', '1975', '1961', '1956', '1950', '1932', '1945', '1962', '1939', '1955', '1968', '1949', '1957', '1970', '1930', '1933', '1938', '1927', '1964', '1940', '1948', '1931', '1946', '1916', '1936', '1918', '1926', '1925', '1952', '1934', '1929', '1953', '1937', '1941', '2023', '1922', '1923', '1910', '1935', '1913', '1914', '1924'])\n"
     ]
    }
   ],
   "source": [
    "import pandas as pd\n",
    "import json\n",
    "\n",
    "import json \n",
    "import pandas as pd\n",
    "\n",
    "# Load the json data\n",
    "with open('imdb_json.json') as f:\n",
    "  data = json.load(f)\n",
    "\n",
    "  # Extract the year and movie data into separate variables  \n",
    "  years = list(data.keys())\n",
    "  print(data.keys())"
   ]
  },
  {
   "cell_type": "code",
   "execution_count": 108,
   "metadata": {},
   "outputs": [],
   "source": [
    "data = open('imdb_json.json')\n"
   ]
  },
  {
   "cell_type": "code",
   "execution_count": 109,
   "metadata": {},
   "outputs": [
    {
     "name": "stdout",
     "output_type": "stream",
     "text": [
      "<class 'pandas.core.frame.DataFrame'>\n",
      "RangeIndex: 109 entries, 0 to 108\n",
      "Data columns (total 9 columns):\n",
      " #   Column    Non-Null Count  Dtype \n",
      "---  ------    --------------  ----- \n",
      " 0   year      109 non-null    object\n",
      " 1   title     109 non-null    object\n",
      " 2   composer  65 non-null     object\n",
      " 3   cast      105 non-null    object\n",
      " 4   language  101 non-null    object\n",
      " 5   director  87 non-null     object\n",
      " 6   country   102 non-null    object\n",
      " 7   genre     107 non-null    object\n",
      " 8   writer    82 non-null     object\n",
      "dtypes: object(9)\n",
      "memory usage: 7.8+ KB\n"
     ]
    }
   ],
   "source": [
    "df_json.info()"
   ]
  },
  {
   "cell_type": "code",
   "execution_count": 110,
   "metadata": {},
   "outputs": [
    {
     "name": "stdout",
     "output_type": "stream",
     "text": [
      "<class 'pandas.core.frame.DataFrame'>\n",
      "Int64Index: 9756 entries, 0 to 9825\n",
      "Data columns (total 6 columns):\n",
      " #   Column   Non-Null Count  Dtype  \n",
      "---  ------   --------------  -----  \n",
      " 0   title    9756 non-null   object \n",
      " 1   year     9756 non-null   int64  \n",
      " 2   kind     9756 non-null   object \n",
      " 3   rating   8949 non-null   float64\n",
      " 4   vote     8949 non-null   float64\n",
      " 5   runtime  9756 non-null   int64  \n",
      "dtypes: float64(2), int64(2), object(2)\n",
      "memory usage: 533.5+ KB\n"
     ]
    }
   ],
   "source": [
    "df_csv.info()"
   ]
  },
  {
   "cell_type": "code",
   "execution_count": 111,
   "metadata": {},
   "outputs": [],
   "source": [
    "# Convert the 'year' column in df_json to int64 to match the 'year' column in df_csv\n",
    "df_json['year'] = df_json['year'].astype('int64')"
   ]
  },
  {
   "cell_type": "code",
   "execution_count": 112,
   "metadata": {},
   "outputs": [],
   "source": [
    "# Merge the two dataframes on 'title' and 'year' using an outer join\n",
    "merged_df = pd.merge(df_json, df_csv, how='outer', on=['title', 'year'])"
   ]
  },
  {
   "cell_type": "code",
   "execution_count": 113,
   "metadata": {},
   "outputs": [
    {
     "data": {
      "text/plain": [
       "(9864, 13)"
      ]
     },
     "execution_count": 113,
     "metadata": {},
     "output_type": "execute_result"
    }
   ],
   "source": [
    "merged_df.shape"
   ]
  },
  {
   "cell_type": "code",
   "execution_count": 114,
   "metadata": {},
   "outputs": [
    {
     "data": {
      "text/html": [
       "<div>\n",
       "<style scoped>\n",
       "    .dataframe tbody tr th:only-of-type {\n",
       "        vertical-align: middle;\n",
       "    }\n",
       "\n",
       "    .dataframe tbody tr th {\n",
       "        vertical-align: top;\n",
       "    }\n",
       "\n",
       "    .dataframe thead th {\n",
       "        text-align: right;\n",
       "    }\n",
       "</style>\n",
       "<table border=\"1\" class=\"dataframe\">\n",
       "  <thead>\n",
       "    <tr style=\"text-align: right;\">\n",
       "      <th></th>\n",
       "      <th>year</th>\n",
       "      <th>title</th>\n",
       "      <th>composer</th>\n",
       "      <th>cast</th>\n",
       "      <th>language</th>\n",
       "      <th>director</th>\n",
       "      <th>country</th>\n",
       "      <th>genre</th>\n",
       "      <th>writer</th>\n",
       "      <th>kind</th>\n",
       "      <th>rating</th>\n",
       "      <th>vote</th>\n",
       "      <th>runtime</th>\n",
       "    </tr>\n",
       "  </thead>\n",
       "  <tbody>\n",
       "    <tr>\n",
       "      <th>0</th>\n",
       "      <td>2003</td>\n",
       "      <td>Dinosaur Planet</td>\n",
       "      <td>NaN</td>\n",
       "      <td>[Christian Slater, Scott Sampson]</td>\n",
       "      <td>[English]</td>\n",
       "      <td>NaN</td>\n",
       "      <td>[United States]</td>\n",
       "      <td>[Documentary, Animation, Family]</td>\n",
       "      <td>[Mike Carrol, Mike Carroll, Georgann Kane]</td>\n",
       "      <td>tv mini series</td>\n",
       "      <td>7.7</td>\n",
       "      <td>474.0</td>\n",
       "      <td>50.0</td>\n",
       "    </tr>\n",
       "    <tr>\n",
       "      <th>1</th>\n",
       "      <td>2021</td>\n",
       "      <td>Daydream Obsession</td>\n",
       "      <td>NaN</td>\n",
       "      <td>[Joe Dain, Kris Black, Julian Coca, Danny Dall...</td>\n",
       "      <td>[English]</td>\n",
       "      <td>[Thomas R. Smyth]</td>\n",
       "      <td>[United States]</td>\n",
       "      <td>[Romance]</td>\n",
       "      <td>[Scott Yarbrough]</td>\n",
       "      <td>NaN</td>\n",
       "      <td>NaN</td>\n",
       "      <td>NaN</td>\n",
       "      <td>NaN</td>\n",
       "    </tr>\n",
       "    <tr>\n",
       "      <th>2</th>\n",
       "      <td>1994</td>\n",
       "      <td>The Bonesetter</td>\n",
       "      <td>[Sylvain Lavigne]</td>\n",
       "      <td>[Brett Kelly, Sherry Thurig, Anne-Marie Frigon...</td>\n",
       "      <td>[English]</td>\n",
       "      <td>[Brett Kelly]</td>\n",
       "      <td>[Canada]</td>\n",
       "      <td>[Horror, Thriller]</td>\n",
       "      <td>[Brett Kelly]</td>\n",
       "      <td>NaN</td>\n",
       "      <td>NaN</td>\n",
       "      <td>NaN</td>\n",
       "      <td>NaN</td>\n",
       "    </tr>\n",
       "    <tr>\n",
       "      <th>3</th>\n",
       "      <td>2016</td>\n",
       "      <td>Carandiru</td>\n",
       "      <td>[André Abujamra]</td>\n",
       "      <td>[Luiz Carlos Vasconcelos, Milton Gonçalves, Iv...</td>\n",
       "      <td>[Portuguese]</td>\n",
       "      <td>[Hector Babenco]</td>\n",
       "      <td>[Brazil, Argentina, Italy]</td>\n",
       "      <td>[Drama, Crime]</td>\n",
       "      <td>[Hector Babenco, Fernando Bonassi, Victor Navas]</td>\n",
       "      <td>NaN</td>\n",
       "      <td>NaN</td>\n",
       "      <td>NaN</td>\n",
       "      <td>NaN</td>\n",
       "    </tr>\n",
       "    <tr>\n",
       "      <th>4</th>\n",
       "      <td>1992</td>\n",
       "      <td>DarkWolf</td>\n",
       "      <td>[Geoff Levin]</td>\n",
       "      <td>[Samaire Armstrong, Ryan Alosio, Andrea Bogart...</td>\n",
       "      <td>[English]</td>\n",
       "      <td>[Richard Friedman]</td>\n",
       "      <td>[United States]</td>\n",
       "      <td>[Horror]</td>\n",
       "      <td>[Geoffrey Alan Holliday, Chuck Scholl, Geoffre...</td>\n",
       "      <td>NaN</td>\n",
       "      <td>NaN</td>\n",
       "      <td>NaN</td>\n",
       "      <td>NaN</td>\n",
       "    </tr>\n",
       "  </tbody>\n",
       "</table>\n",
       "</div>"
      ],
      "text/plain": [
       "   year               title           composer  \\\n",
       "0  2003     Dinosaur Planet                NaN   \n",
       "1  2021  Daydream Obsession                NaN   \n",
       "2  1994      The Bonesetter  [Sylvain Lavigne]   \n",
       "3  2016           Carandiru   [André Abujamra]   \n",
       "4  1992            DarkWolf      [Geoff Levin]   \n",
       "\n",
       "                                                cast      language  \\\n",
       "0                  [Christian Slater, Scott Sampson]     [English]   \n",
       "1  [Joe Dain, Kris Black, Julian Coca, Danny Dall...     [English]   \n",
       "2  [Brett Kelly, Sherry Thurig, Anne-Marie Frigon...     [English]   \n",
       "3  [Luiz Carlos Vasconcelos, Milton Gonçalves, Iv...  [Portuguese]   \n",
       "4  [Samaire Armstrong, Ryan Alosio, Andrea Bogart...     [English]   \n",
       "\n",
       "             director                     country  \\\n",
       "0                 NaN             [United States]   \n",
       "1   [Thomas R. Smyth]             [United States]   \n",
       "2       [Brett Kelly]                    [Canada]   \n",
       "3    [Hector Babenco]  [Brazil, Argentina, Italy]   \n",
       "4  [Richard Friedman]             [United States]   \n",
       "\n",
       "                              genre  \\\n",
       "0  [Documentary, Animation, Family]   \n",
       "1                         [Romance]   \n",
       "2                [Horror, Thriller]   \n",
       "3                    [Drama, Crime]   \n",
       "4                          [Horror]   \n",
       "\n",
       "                                              writer            kind  rating  \\\n",
       "0         [Mike Carrol, Mike Carroll, Georgann Kane]  tv mini series     7.7   \n",
       "1                                  [Scott Yarbrough]             NaN     NaN   \n",
       "2                                      [Brett Kelly]             NaN     NaN   \n",
       "3   [Hector Babenco, Fernando Bonassi, Victor Navas]             NaN     NaN   \n",
       "4  [Geoffrey Alan Holliday, Chuck Scholl, Geoffre...             NaN     NaN   \n",
       "\n",
       "    vote  runtime  \n",
       "0  474.0     50.0  \n",
       "1    NaN      NaN  \n",
       "2    NaN      NaN  \n",
       "3    NaN      NaN  \n",
       "4    NaN      NaN  "
      ]
     },
     "execution_count": 114,
     "metadata": {},
     "output_type": "execute_result"
    }
   ],
   "source": [
    "merged_df.head()"
   ]
  },
  {
   "cell_type": "code",
   "execution_count": 118,
   "metadata": {},
   "outputs": [
    {
     "data": {
      "text/html": [
       "<div>\n",
       "<style scoped>\n",
       "    .dataframe tbody tr th:only-of-type {\n",
       "        vertical-align: middle;\n",
       "    }\n",
       "\n",
       "    .dataframe tbody tr th {\n",
       "        vertical-align: top;\n",
       "    }\n",
       "\n",
       "    .dataframe thead th {\n",
       "        text-align: right;\n",
       "    }\n",
       "</style>\n",
       "<table border=\"1\" class=\"dataframe\">\n",
       "  <thead>\n",
       "    <tr style=\"text-align: right;\">\n",
       "      <th></th>\n",
       "      <th>year</th>\n",
       "      <th>title</th>\n",
       "      <th>composer</th>\n",
       "      <th>cast</th>\n",
       "      <th>language</th>\n",
       "      <th>director</th>\n",
       "      <th>country</th>\n",
       "      <th>genre</th>\n",
       "      <th>writer</th>\n",
       "      <th>kind</th>\n",
       "      <th>rating</th>\n",
       "      <th>vote</th>\n",
       "      <th>runtime</th>\n",
       "    </tr>\n",
       "  </thead>\n",
       "  <tbody>\n",
       "    <tr>\n",
       "      <th>0</th>\n",
       "      <td>2003</td>\n",
       "      <td>Dinosaur Planet</td>\n",
       "      <td>NaN</td>\n",
       "      <td>[Christian Slater, Scott Sampson]</td>\n",
       "      <td>[English]</td>\n",
       "      <td>NaN</td>\n",
       "      <td>[United States]</td>\n",
       "      <td>[Documentary, Animation, Family]</td>\n",
       "      <td>[Mike Carrol, Mike Carroll, Georgann Kane]</td>\n",
       "      <td>tv mini series</td>\n",
       "      <td>7.7</td>\n",
       "      <td>474.0</td>\n",
       "      <td>50.0</td>\n",
       "    </tr>\n",
       "    <tr>\n",
       "      <th>1</th>\n",
       "      <td>2021</td>\n",
       "      <td>Daydream Obsession</td>\n",
       "      <td>NaN</td>\n",
       "      <td>[Joe Dain, Kris Black, Julian Coca, Danny Dall...</td>\n",
       "      <td>[English]</td>\n",
       "      <td>[Thomas R. Smyth]</td>\n",
       "      <td>[United States]</td>\n",
       "      <td>[Romance]</td>\n",
       "      <td>[Scott Yarbrough]</td>\n",
       "      <td>NaN</td>\n",
       "      <td>NaN</td>\n",
       "      <td>NaN</td>\n",
       "      <td>NaN</td>\n",
       "    </tr>\n",
       "    <tr>\n",
       "      <th>2</th>\n",
       "      <td>1994</td>\n",
       "      <td>The Bonesetter</td>\n",
       "      <td>[Sylvain Lavigne]</td>\n",
       "      <td>[Brett Kelly, Sherry Thurig, Anne-Marie Frigon...</td>\n",
       "      <td>[English]</td>\n",
       "      <td>[Brett Kelly]</td>\n",
       "      <td>[Canada]</td>\n",
       "      <td>[Horror, Thriller]</td>\n",
       "      <td>[Brett Kelly]</td>\n",
       "      <td>NaN</td>\n",
       "      <td>NaN</td>\n",
       "      <td>NaN</td>\n",
       "      <td>NaN</td>\n",
       "    </tr>\n",
       "    <tr>\n",
       "      <th>3</th>\n",
       "      <td>2016</td>\n",
       "      <td>Carandiru</td>\n",
       "      <td>[André Abujamra]</td>\n",
       "      <td>[Luiz Carlos Vasconcelos, Milton Gonçalves, Iv...</td>\n",
       "      <td>[Portuguese]</td>\n",
       "      <td>[Hector Babenco]</td>\n",
       "      <td>[Brazil, Argentina, Italy]</td>\n",
       "      <td>[Drama, Crime]</td>\n",
       "      <td>[Hector Babenco, Fernando Bonassi, Victor Navas]</td>\n",
       "      <td>NaN</td>\n",
       "      <td>NaN</td>\n",
       "      <td>NaN</td>\n",
       "      <td>NaN</td>\n",
       "    </tr>\n",
       "    <tr>\n",
       "      <th>4</th>\n",
       "      <td>1992</td>\n",
       "      <td>DarkWolf</td>\n",
       "      <td>[Geoff Levin]</td>\n",
       "      <td>[Samaire Armstrong, Ryan Alosio, Andrea Bogart...</td>\n",
       "      <td>[English]</td>\n",
       "      <td>[Richard Friedman]</td>\n",
       "      <td>[United States]</td>\n",
       "      <td>[Horror]</td>\n",
       "      <td>[Geoffrey Alan Holliday, Chuck Scholl, Geoffre...</td>\n",
       "      <td>NaN</td>\n",
       "      <td>NaN</td>\n",
       "      <td>NaN</td>\n",
       "      <td>NaN</td>\n",
       "    </tr>\n",
       "  </tbody>\n",
       "</table>\n",
       "</div>"
      ],
      "text/plain": [
       "   year               title           composer  \\\n",
       "0  2003     Dinosaur Planet                NaN   \n",
       "1  2021  Daydream Obsession                NaN   \n",
       "2  1994      The Bonesetter  [Sylvain Lavigne]   \n",
       "3  2016           Carandiru   [André Abujamra]   \n",
       "4  1992            DarkWolf      [Geoff Levin]   \n",
       "\n",
       "                                                cast      language  \\\n",
       "0                  [Christian Slater, Scott Sampson]     [English]   \n",
       "1  [Joe Dain, Kris Black, Julian Coca, Danny Dall...     [English]   \n",
       "2  [Brett Kelly, Sherry Thurig, Anne-Marie Frigon...     [English]   \n",
       "3  [Luiz Carlos Vasconcelos, Milton Gonçalves, Iv...  [Portuguese]   \n",
       "4  [Samaire Armstrong, Ryan Alosio, Andrea Bogart...     [English]   \n",
       "\n",
       "             director                     country  \\\n",
       "0                 NaN             [United States]   \n",
       "1   [Thomas R. Smyth]             [United States]   \n",
       "2       [Brett Kelly]                    [Canada]   \n",
       "3    [Hector Babenco]  [Brazil, Argentina, Italy]   \n",
       "4  [Richard Friedman]             [United States]   \n",
       "\n",
       "                              genre  \\\n",
       "0  [Documentary, Animation, Family]   \n",
       "1                         [Romance]   \n",
       "2                [Horror, Thriller]   \n",
       "3                    [Drama, Crime]   \n",
       "4                          [Horror]   \n",
       "\n",
       "                                              writer            kind  rating  \\\n",
       "0         [Mike Carrol, Mike Carroll, Georgann Kane]  tv mini series     7.7   \n",
       "1                                  [Scott Yarbrough]             NaN     NaN   \n",
       "2                                      [Brett Kelly]             NaN     NaN   \n",
       "3   [Hector Babenco, Fernando Bonassi, Victor Navas]             NaN     NaN   \n",
       "4  [Geoffrey Alan Holliday, Chuck Scholl, Geoffre...             NaN     NaN   \n",
       "\n",
       "    vote  runtime  \n",
       "0  474.0     50.0  \n",
       "1    NaN      NaN  \n",
       "2    NaN      NaN  \n",
       "3    NaN      NaN  \n",
       "4    NaN      NaN  "
      ]
     },
     "execution_count": 118,
     "metadata": {},
     "output_type": "execute_result"
    }
   ],
   "source": [
    "merged_df.head()"
   ]
  },
  {
   "cell_type": "code",
   "execution_count": 119,
   "metadata": {},
   "outputs": [
    {
     "name": "stdout",
     "output_type": "stream",
     "text": [
      "              year       rating          vote      runtime\n",
      "count  9864.000000  8949.000000  8.949000e+03  9756.000000\n",
      "mean   1994.451338     6.680635  2.121821e+04    88.129356\n",
      "std      16.724045     1.285113  9.804873e+04    67.251045\n",
      "min    1905.000000     1.000000  5.000000e+00     0.000000\n",
      "25%    1989.000000     6.000000  2.830000e+02    60.000000\n",
      "50%    1999.000000     6.900000  1.535000e+03    92.000000\n",
      "75%    2003.000000     7.600000  7.570000e+03   107.000000\n",
      "max    2023.000000     9.600000  2.462087e+06  1620.000000\n"
     ]
    }
   ],
   "source": [
    "# Summary statistics for numerical columns\n",
    "print(merged_df.describe())"
   ]
  },
  {
   "cell_type": "code",
   "execution_count": 120,
   "metadata": {},
   "outputs": [
    {
     "name": "stdout",
     "output_type": "stream",
     "text": [
      "Number of duplicate entries: 581\n"
     ]
    }
   ],
   "source": [
    "# Check for duplicate rows\n",
    "duplicates = merged_df.duplicated(['title', 'year'])\n",
    "print(f\"Number of duplicate entries: {duplicates.sum()}\")"
   ]
  },
  {
   "cell_type": "code",
   "execution_count": 121,
   "metadata": {},
   "outputs": [
    {
     "name": "stdout",
     "output_type": "stream",
     "text": [
      "Duplicates removed\n"
     ]
    }
   ],
   "source": [
    "# Remove duplicates if any\n",
    "merged_df = merged_df.drop_duplicates(['title', 'year'])\n",
    "print(\"Duplicates removed\")\n"
   ]
  },
  {
   "cell_type": "code",
   "execution_count": 122,
   "metadata": {},
   "outputs": [
    {
     "name": "stdout",
     "output_type": "stream",
     "text": [
      "year           0\n",
      "title          0\n",
      "composer    9218\n",
      "cast        9178\n",
      "language    9182\n",
      "director    9196\n",
      "country     9181\n",
      "genre       9176\n",
      "writer      9201\n",
      "kind         108\n",
      "rating       774\n",
      "vote         774\n",
      "runtime      108\n",
      "dtype: int64\n"
     ]
    }
   ],
   "source": [
    "# Check for null values\n",
    "print(merged_df.isnull().sum())"
   ]
  },
  {
   "cell_type": "code",
   "execution_count": 123,
   "metadata": {},
   "outputs": [],
   "source": [
    "# Fill null values in numerical columns with mean, median, or zero based on analysis\n",
    "merged_df['rating'].fillna(merged_df['rating'].mean(), inplace=True)\n",
    "merged_df['vote'].fillna(0, inplace=True)"
   ]
  },
  {
   "cell_type": "code",
   "execution_count": 124,
   "metadata": {},
   "outputs": [
    {
     "name": "stdout",
     "output_type": "stream",
     "text": [
      "Null values handled\n"
     ]
    }
   ],
   "source": [
    "# Fill null values in categorical columns with a placeholder value (e.g., 'Unknown')\n",
    "merged_df[['composer', 'cast', 'language', 'director', 'country', 'genre', 'writer']] = \\\n",
    "    merged_df[['composer', 'cast', 'language', 'director', 'country', 'genre', 'writer']].fillna('Unknown')\n",
    "print(\"Null values handled\")"
   ]
  },
  {
   "cell_type": "code",
   "execution_count": 128,
   "metadata": {},
   "outputs": [
    {
     "data": {
      "image/png": "[encoded data removed]",
      "text/plain": [
       "<Figure size 432x288 with 1 Axes>"
      ]
     },
     "metadata": {
      "needs_background": "light"
     },
     "output_type": "display_data"
    }
   ],
   "source": [
    "# Analyze the distribution of ratings\n",
    "plt.hist(merged_df['rating'], bins=20)\n",
    "plt.xlabel('Rating')\n",
    "plt.ylabel('Frequency')\n",
    "plt.title('Distribution of Ratings')\n",
    "plt.show()"
   ]
  },
  {
   "cell_type": "code",
   "execution_count": null,
   "metadata": {},
   "outputs": [],
   "source": []
  },
  {
   "cell_type": "code",
   "execution_count": null,
   "metadata": {},
   "outputs": [],
   "source": []
  },
  {
   "cell_type": "code",
   "execution_count": null,
   "metadata": {},
   "outputs": [],
   "source": []
  },
  {
   "cell_type": "code",
   "execution_count": null,
   "metadata": {},
   "outputs": [],
   "source": []
  },
  {
   "cell_type": "code",
   "execution_count": null,
   "metadata": {},
   "outputs": [],
   "source": []
  },
  {
   "cell_type": "code",
   "execution_count": null,
   "metadata": {},
   "outputs": [],
   "source": []
  },
  {
   "cell_type": "code",
   "execution_count": null,
   "metadata": {},
   "outputs": [],
   "source": []
  },
  {
   "cell_type": "code",
   "execution_count": null,
   "metadata": {},
   "outputs": [],
   "source": []
  },
  {
   "cell_type": "code",
   "execution_count": null,
   "metadata": {},
   "outputs": [],
   "source": []
  },
  {
   "cell_type": "code",
   "execution_count": null,
   "metadata": {},
   "outputs": [],
   "source": []
  }
 ],
 "metadata": {
  "kernelspec": {
   "display_name": "Python 3",
   "language": "python",
   "name": "python3"
  },
  "language_info": {
   "codemirror_mode": {
    "name": "ipython",
    "version": 3
   },
   "file_extension": ".py",
   "mimetype": "text/x-python",
   "name": "python",
   "nbconvert_exporter": "python",
   "pygments_lexer": "ipython3",
   "version": "3.10.5"
  },
  "orig_nbformat": 4
 },
 "nbformat": 4,
 "nbformat_minor": 2
}
